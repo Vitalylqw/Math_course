{
 "cells": [
  {
   "cell_type": "code",
   "execution_count": 1,
   "metadata": {},
   "outputs": [],
   "source": [
    "%matplotlib inline\n",
    "import numpy as np\n",
    "import matplotlib.pyplot as plt"
   ]
  },
  {
   "cell_type": "markdown",
   "metadata": {},
   "source": [
    "4. Задание**\n",
    "\n",
    "Решите аналитически и потом численно (в программе) уравнение, зависящее от параметра а: \n",
    "sin(а*x)=0\n",
    "\n",
    "при условии: 0.01<a<0.02, 100<х<500.\n",
    "    \n",
    "Т.е. надо найти решение х как функцию параметра а - построить график x=x(а).\n",
    "Если численным методом не получается найти все ветви решения x(а), то отыщите хотя бы одну.\n"
   ]
  },
  {
   "cell_type": "code",
   "execution_count": 10,
   "metadata": {},
   "outputs": [
    {
     "data": {
      "image/png": "[encoded data removed]",
      "text/plain": [
       "<Figure size 432x288 with 1 Axes>"
      ]
     },
     "metadata": {
      "needs_background": "light"
     },
     "output_type": "display_data"
    }
   ],
   "source": [
    "a=np.linspace(0.01,0.02,100)\n",
    "x1=np.pi/a\n",
    "x2=2*np.pi/a\n",
    "x3=3*np.pi/a\n",
    "plt.plot(a,x1)\n",
    "plt.plot(a,x2)\n",
    "plt.plot(a,x3)\n",
    "plt.plot([0.01,0.02],[100,100],'--')\n",
    "plt.plot([0.01,0.02],[500,500],'--')\n",
    "plt.show()\n"
   ]
  },
  {
   "cell_type": "markdown",
   "metadata": {},
   "source": [
    "Ответ\n",
    "\n",
    "1. x=pi/a, где a(0.01,0.02)\n",
    "\n",
    "2. x=2*pi/a, где a(2*pi/500,0.02)\n",
    "\n",
    "3. x=3*pi/a, где a(3*pi/500,0.02)"
   ]
  },
  {
   "cell_type": "code",
   "execution_count": 14,
   "metadata": {},
   "outputs": [
    {
     "name": "stdout",
     "output_type": "stream",
     "text": [
      "[0.01256637]\n"
     ]
    }
   ],
   "source": [
    "from scipy.optimize import fsolve\n",
    "def x(a):\n",
    "    return (2*np.pi/a-500)\n",
    "a=fsolve(x,0.012)\n",
    "print(a)"
   ]
  },
  {
   "cell_type": "code",
   "execution_count": 15,
   "metadata": {},
   "outputs": [
    {
     "name": "stdout",
     "output_type": "stream",
     "text": [
      "[0.01884956]\n"
     ]
    }
   ],
   "source": [
    "def x(a):\n",
    "    return (3*np.pi/a-500)\n",
    "a=fsolve(x,0.018)\n",
    "print(a)"
   ]
  },
  {
   "cell_type": "code",
   "execution_count": null,
   "metadata": {},
   "outputs": [],
   "source": []
  }
 ],
 "metadata": {
  "kernelspec": {
   "display_name": "Python 3",
   "language": "python",
   "name": "python3"
  },
  "language_info": {
   "codemirror_mode": {
    "name": "ipython",
    "version": 3
   },
   "file_extension": ".py",
   "mimetype": "text/x-python",
   "name": "python",
   "nbconvert_exporter": "python",
   "pygments_lexer": "ipython3",
   "version": "3.7.4"
  }
 },
 "nbformat": 4,
 "nbformat_minor": 2
}
