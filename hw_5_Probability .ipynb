{
 "cells": [
  {
   "cell_type": "code",
   "execution_count": 11,
   "metadata": {},
   "outputs": [],
   "source": [
    "%matplotlib inline\n",
    "import numpy as np\n",
    "import matplotlib.pyplot as plt\n",
    "import matplotlib.mlab as mlab\n",
    "import itertools\n",
    "import math"
   ]
  },
  {
   "cell_type": "markdown",
   "metadata": {},
   "source": [
    "1. Напишите код, моделирующий выпадение поля в рулетке (с учетом поля зеро)."
   ]
  },
  {
   "cell_type": "code",
   "execution_count": null,
   "metadata": {},
   "outputs": [
    {
     "name": "stdout",
     "output_type": "stream",
     "text": [
      "Введите 1 для запуска рулетки или 0, для выхода1\n",
      "Выпало 15\n",
      "Введите 1 для запуска рулетки или 0, для выхода1\n",
      "Выпало 1\n",
      "Введите 1 для запуска рулетки или 0, для выхода1\n",
      "Выпало 20\n",
      "Введите 1 для запуска рулетки или 0, для выхода1\n",
      "Выпало 17\n",
      "Введите 1 для запуска рулетки или 0, для выхода1\n",
      "Выпало 26\n",
      "Введите 1 для запуска рулетки или 0, для выхода1\n",
      "Выпало 17\n"
     ]
    }
   ],
   "source": [
    "while True:\n",
    "    a=input(\"Введите 1 для запуска рулетки или 0, для выхода\")\n",
    "    if a=='0':\n",
    "        break\n",
    "    elif a=='1':\n",
    "        n=np.random.randint(0,37)\n",
    "        if n=='0':\n",
    "            print('Выпало Zero')\n",
    "        else:\n",
    "            print(f'Выпало {n}')        \n",
    "    else:\n",
    "        print(\"Введите 0 или 1\")\n",
    "          \n"
   ]
  },
  {
   "cell_type": "markdown",
   "metadata": {},
   "source": [
    "2\n",
    "1. Напишите код, проверяющий любую из теорем сложения или умножения вероятности на примере рулетки или подбрасывания монетки.\n",
    "\n",
    "2. Сгенерируйте десять выборок случайных чисел х0, …, х9.\n",
    "и постройте гистограмму распределения случайной суммы х0+х1+ …+ х9."
   ]
  },
  {
   "cell_type": "markdown",
   "metadata": {},
   "source": [
    "Веротность выподения zero =1/37, веротность выподения 32 = 1/37. Тогда вероятность выпадения одного или второго 2/37\n",
    "Докажем на практике"
   ]
  },
  {
   "cell_type": "code",
   "execution_count": 11,
   "metadata": {},
   "outputs": [
    {
     "name": "stdout",
     "output_type": "stream",
     "text": [
      "Расчетная веротность а=0.02702702702702703, практичкое значение 0.02739\n",
      "Расчетная веротность b=0.02702702702702703, практичкое значение 0.02773\n",
      "Расчетная веротность a+b=0.05405405405405406, практичкое значение 0.05512\n"
     ]
    }
   ],
   "source": [
    "a=0\n",
    "b=32\n",
    "Pa=1/37\n",
    "Pb=1/37\n",
    "Pab=2/37\n",
    "n=100000\n",
    "Na=0\n",
    "Nb=0\n",
    "for i in range(n):\n",
    "    num=np.random.randint(0,37)\n",
    "    if num==a:\n",
    "        Na+=1\n",
    "    elif num==b:\n",
    "        Nb+=1\n",
    "print(f'Расчетная веротность а={Pa}, практичкое значение {Na/n}')        \n",
    "print(f'Расчетная веротность b={Pb}, практичкое значение {Nb/n}') \n",
    "print(f'Расчетная веротность a+b={Pab}, практичкое значение {(Nb+Na)/n}') \n"
   ]
  },
  {
   "cell_type": "code",
   "execution_count": 19,
   "metadata": {},
   "outputs": [
    {
     "data": {
      "image/png": "[encoded data removed]",
      "text/plain": [
       "<Figure size 432x288 with 1 Axes>"
      ]
     },
     "metadata": {
      "needs_background": "light"
     },
     "output_type": "display_data"
    }
   ],
   "source": [
    "x1=np.random.randint(1,101,10)\n",
    "x2=np.random.randint(1,101,10)\n",
    "x3=np.random.randint(1,101,10)\n",
    "x4=np.random.randint(1,101,10)\n",
    "x5=np.random.randint(1,101,10)\n",
    "x6=np.random.randint(1,101,10)\n",
    "x7=np.random.randint(1,101,10)\n",
    "x8=np.random.randint(1,101,10)\n",
    "x9=np.random.randint(1,101,10)\n",
    "x10=np.random.randint(1,101,10)\n",
    "X=x1+x2+x3+x4+x5+x6+x7+x8+x9+x10\n",
    "plt.hist(X,40)\n",
    "plt.show()"
   ]
  },
  {
   "cell_type": "markdown",
   "metadata": {},
   "source": [
    "3 Задание\n",
    "1. Дополните код Монте-Карло последовательности независимых испытаний расчетом соответствующих вероятностей (через биномиальное распределение) и сравните результаты.\n",
    "\n",
    "2. Повторите расчеты биномиальных коэффициентов и вероятностей k успехов в последовательности из n независимых испытаний, взяв другие значения n и k.\n"
   ]
  },
  {
   "cell_type": "code",
   "execution_count": 61,
   "metadata": {},
   "outputs": [],
   "source": [
    "def ispitaniya(n=4,k=2,N=10000):\n",
    "    # n - Количество исходов в одном сипытании\n",
    "    # k - Сколько успехов в одном испытании мы ищем (например 2 положительных подбрасиывания из 4)\n",
    "    # N - кол испытаниий по n исходов\n",
    "    K=0 # Счетчик совпадений нужного количесвта положительных исходов (k) в кждом испытании\n",
    "    if k>n:\n",
    "        print('Кол. положительных исходов не может быть больше общего количества')\n",
    "        return\n",
    "    \n",
    "    a = np.random.randint(0, 2, (N,n))\n",
    "    for i in range(N):\n",
    "        if a[i].sum() == k:\n",
    "            K+=1\n",
    "\n",
    "    # Расчет по формуле Бернули     \n",
    "    C= math.factorial(n)/(math.factorial(k)*math.factorial(n-k))\n",
    "    Pnk=C/2**n\n",
    "\n",
    "    print(f'Практический результат из {n}- подбрасывний, проведенных {N} раз')\n",
    "    print(f'Kоличество искомых результатов -{K}, за {N} испытаний, расчетная вероятность  - {K/N}')\n",
    "    print(f'Вероятность по формуле Бернули - {Pnk}')"
   ]
  },
  {
   "cell_type": "code",
   "execution_count": 54,
   "metadata": {},
   "outputs": [
    {
     "name": "stdout",
     "output_type": "stream",
     "text": [
      "Практический результат из 4- подбрасывний, проведенных 10000 раз\n",
      "Kоличество искомых результатов -3792, за 10000 испытаний, расчетная вероятность  - 0.3792\n",
      "Вероятность по формуле Бернули - 0.375\n"
     ]
    }
   ],
   "source": [
    "ispitaniya()"
   ]
  },
  {
   "cell_type": "code",
   "execution_count": 55,
   "metadata": {},
   "outputs": [
    {
     "name": "stdout",
     "output_type": "stream",
     "text": [
      "Практический результат из 4- подбрасывний, проведенных 10000 раз\n",
      "Kоличество искомых результатов -2456, за 10000 испытаний, расчетная вероятность  - 0.2456\n",
      "Вероятность по формуле Бернули - 0.25\n"
     ]
    }
   ],
   "source": [
    "ispitaniya(4,3)"
   ]
  },
  {
   "cell_type": "code",
   "execution_count": 56,
   "metadata": {},
   "outputs": [
    {
     "name": "stdout",
     "output_type": "stream",
     "text": [
      "Практический результат из 4- подбрасывний, проведенных 10000 раз\n",
      "Kоличество искомых результатов -614, за 10000 испытаний, расчетная вероятность  - 0.0614\n",
      "Вероятность по формуле Бернули - 0.0625\n"
     ]
    }
   ],
   "source": [
    "ispitaniya(4,4)"
   ]
  },
  {
   "cell_type": "code",
   "execution_count": 59,
   "metadata": {},
   "outputs": [
    {
     "name": "stdout",
     "output_type": "stream",
     "text": [
      "Практический результат из 5- подбрасывний, проведенных 10000 раз\n",
      "Kоличество искомых результатов -3099, за 10000 испытаний, расчетная вероятность  - 0.3099\n",
      "Вероятность по формуле Бернули - 0.3125\n"
     ]
    }
   ],
   "source": [
    "ispitaniya(5,3)"
   ]
  },
  {
   "cell_type": "code",
   "execution_count": 60,
   "metadata": {},
   "outputs": [
    {
     "name": "stdout",
     "output_type": "stream",
     "text": [
      "Практический результат из 5- подбрасывний, проведенных 10000 раз\n",
      "Kоличество искомых результатов -3142, за 10000 испытаний, расчетная вероятность  - 0.3142\n",
      "Вероятность по формуле Бернули - 0.3125\n"
     ]
    }
   ],
   "source": [
    "ispitaniya(5,2)"
   ]
  },
  {
   "cell_type": "markdown",
   "metadata": {},
   "source": [
    "4. Из урока по комбинаторике повторите расчеты, сгенерировав возможные варианты перестановок для других значений n и k\n"
   ]
  },
  {
   "cell_type": "code",
   "execution_count": 70,
   "metadata": {},
   "outputs": [
    {
     "name": "stdout",
     "output_type": "stream",
     "text": [
      "01\n",
      "02\n",
      "03\n",
      "10\n",
      "12\n",
      "13\n",
      "20\n",
      "21\n",
      "23\n",
      "30\n",
      "31\n",
      "32\n",
      "Количество вариантов размещения 12\n"
     ]
    }
   ],
   "source": [
    "n=0\n",
    "for p in itertools.permutations(\"0123\",2):\n",
    "    print(''.join(p))\n",
    "    n+=1\n",
    "print(f'Количество вариантов размещения {n}')"
   ]
  },
  {
   "cell_type": "code",
   "execution_count": 71,
   "metadata": {},
   "outputs": [
    {
     "name": "stdout",
     "output_type": "stream",
     "text": [
      "01\n",
      "02\n",
      "03\n",
      "12\n",
      "13\n",
      "23\n",
      "Количество вариантов сочетаний 6\n"
     ]
    }
   ],
   "source": [
    "n=0\n",
    "for p in itertools.combinations(\"0123\",2):\n",
    "    n+=1\n",
    "    print(''.join(p))\n",
    "print(f'Количество вариантов сочетаний {n}')    "
   ]
  },
  {
   "cell_type": "code",
   "execution_count": 72,
   "metadata": {},
   "outputs": [
    {
     "name": "stdout",
     "output_type": "stream",
     "text": [
      "0123\n",
      "0132\n",
      "0213\n",
      "0231\n",
      "0312\n",
      "0321\n",
      "1023\n",
      "1032\n",
      "1203\n",
      "1230\n",
      "1302\n",
      "1320\n",
      "2013\n",
      "2031\n",
      "2103\n",
      "2130\n",
      "2301\n",
      "2310\n",
      "3012\n",
      "3021\n",
      "3102\n",
      "3120\n",
      "3201\n",
      "3210\n",
      "Количество вариантов размещения 24\n"
     ]
    }
   ],
   "source": [
    "n=0\n",
    "for p in itertools.permutations(\"0123\",4):\n",
    "    print(''.join(p))\n",
    "    n+=1\n",
    "print(f'Количество вариантов размещения {n}')"
   ]
  },
  {
   "cell_type": "code",
   "execution_count": 73,
   "metadata": {},
   "outputs": [
    {
     "name": "stdout",
     "output_type": "stream",
     "text": [
      "0123\n",
      "Количество вариантов сочетаний 1\n"
     ]
    }
   ],
   "source": [
    "n=0\n",
    "for p in itertools.combinations(\"0123\",4):\n",
    "    n+=1\n",
    "    print(''.join(p))\n",
    "print(f'Количество вариантов сочетаний {n}')    "
   ]
  },
  {
   "cell_type": "code",
   "execution_count": 74,
   "metadata": {},
   "outputs": [
    {
     "name": "stdout",
     "output_type": "stream",
     "text": [
      "01\n",
      "02\n",
      "10\n",
      "12\n",
      "20\n",
      "21\n",
      "Количество вариантов размещения 6\n"
     ]
    }
   ],
   "source": [
    "n=0\n",
    "for p in itertools.permutations(\"012\",2):\n",
    "    print(''.join(p))\n",
    "    n+=1\n",
    "print(f'Количество вариантов размещения {n}')"
   ]
  },
  {
   "cell_type": "code",
   "execution_count": 75,
   "metadata": {},
   "outputs": [
    {
     "name": "stdout",
     "output_type": "stream",
     "text": [
      "01\n",
      "02\n",
      "12\n",
      "Количество вариантов сочетаний 3\n"
     ]
    }
   ],
   "source": [
    "n=0\n",
    "for p in itertools.combinations(\"012\",2):\n",
    "    n+=1\n",
    "    print(''.join(p))\n",
    "print(f'Количество вариантов сочетаний {n}')   "
   ]
  },
  {
   "cell_type": "code",
   "execution_count": 76,
   "metadata": {},
   "outputs": [
    {
     "name": "stdout",
     "output_type": "stream",
     "text": [
      "012\n",
      "013\n",
      "021\n",
      "023\n",
      "031\n",
      "032\n",
      "102\n",
      "103\n",
      "120\n",
      "123\n",
      "130\n",
      "132\n",
      "201\n",
      "203\n",
      "210\n",
      "213\n",
      "230\n",
      "231\n",
      "301\n",
      "302\n",
      "310\n",
      "312\n",
      "320\n",
      "321\n",
      "Количество вариантов размещения 24\n"
     ]
    }
   ],
   "source": [
    "n=0\n",
    "for p in itertools.permutations(\"0123\",3):\n",
    "    print(''.join(p))\n",
    "    n+=1\n",
    "print(f'Количество вариантов размещения {n}')"
   ]
  },
  {
   "cell_type": "code",
   "execution_count": 78,
   "metadata": {},
   "outputs": [
    {
     "name": "stdout",
     "output_type": "stream",
     "text": [
      "012\n",
      "013\n",
      "023\n",
      "123\n",
      "Количество вариантов сочетаний 4\n"
     ]
    }
   ],
   "source": [
    "n=0\n",
    "for p in itertools.combinations(\"0123\",3):\n",
    "    n+=1\n",
    "    print(''.join(p))\n",
    "print(f'Количество вариантов сочетаний {n}')   "
   ]
  },
  {
   "cell_type": "code",
   "execution_count": 79,
   "metadata": {},
   "outputs": [
    {
     "name": "stdout",
     "output_type": "stream",
     "text": [
      "01234\n",
      "01243\n",
      "01324\n",
      "01342\n",
      "01423\n",
      "01432\n",
      "02134\n",
      "02143\n",
      "02314\n",
      "02341\n",
      "02413\n",
      "02431\n",
      "03124\n",
      "03142\n",
      "03214\n",
      "03241\n",
      "03412\n",
      "03421\n",
      "04123\n",
      "04132\n",
      "04213\n",
      "04231\n",
      "04312\n",
      "04321\n",
      "10234\n",
      "10243\n",
      "10324\n",
      "10342\n",
      "10423\n",
      "10432\n",
      "12034\n",
      "12043\n",
      "12304\n",
      "12340\n",
      "12403\n",
      "12430\n",
      "13024\n",
      "13042\n",
      "13204\n",
      "13240\n",
      "13402\n",
      "13420\n",
      "14023\n",
      "14032\n",
      "14203\n",
      "14230\n",
      "14302\n",
      "14320\n",
      "20134\n",
      "20143\n",
      "20314\n",
      "20341\n",
      "20413\n",
      "20431\n",
      "21034\n",
      "21043\n",
      "21304\n",
      "21340\n",
      "21403\n",
      "21430\n",
      "23014\n",
      "23041\n",
      "23104\n",
      "23140\n",
      "23401\n",
      "23410\n",
      "24013\n",
      "24031\n",
      "24103\n",
      "24130\n",
      "24301\n",
      "24310\n",
      "30124\n",
      "30142\n",
      "30214\n",
      "30241\n",
      "30412\n",
      "30421\n",
      "31024\n",
      "31042\n",
      "31204\n",
      "31240\n",
      "31402\n",
      "31420\n",
      "32014\n",
      "32041\n",
      "32104\n",
      "32140\n",
      "32401\n",
      "32410\n",
      "34012\n",
      "34021\n",
      "34102\n",
      "34120\n",
      "34201\n",
      "34210\n",
      "40123\n",
      "40132\n",
      "40213\n",
      "40231\n",
      "40312\n",
      "40321\n",
      "41023\n",
      "41032\n",
      "41203\n",
      "41230\n",
      "41302\n",
      "41320\n",
      "42013\n",
      "42031\n",
      "42103\n",
      "42130\n",
      "42301\n",
      "42310\n",
      "43012\n",
      "43021\n",
      "43102\n",
      "43120\n",
      "43201\n",
      "43210\n",
      "Количество вариантов размещения 120\n"
     ]
    }
   ],
   "source": [
    "n=0\n",
    "for p in itertools.permutations(\"01234\",5):\n",
    "    print(''.join(p))\n",
    "    n+=1\n",
    "print(f'Количество вариантов размещения {n}')"
   ]
  },
  {
   "cell_type": "markdown",
   "metadata": {},
   "source": [
    "5. Дополните код расчетом коэффициента корреляции x и y по формуле\n",
    "\n"
   ]
  },
  {
   "cell_type": "code",
   "execution_count": 89,
   "metadata": {},
   "outputs": [
    {
     "name": "stderr",
     "output_type": "stream",
     "text": [
      "C:\\ProgramData\\Anaconda3\\lib\\site-packages\\ipykernel_launcher.py:14: FutureWarning: `rcond` parameter will change to the default of machine precision times ``max(M, N)`` where M and N are the input matrix dimensions.\n",
      "To use the future default and silence this warning we advise to pass `rcond=None`, to keep using the old, explicitly pass `rcond=-1`.\n",
      "  \n"
     ]
    },
    {
     "name": "stdout",
     "output_type": "stream",
     "text": [
      "0.6597392158327489 0.1652303558762635\n",
      "0.6597392158327487 0.1652303558762638\n"
     ]
    },
    {
     "data": {
      "image/png": "[encoded data removed]",
      "text/plain": [
       "<Figure size 432x288 with 1 Axes>"
      ]
     },
     "metadata": {
      "needs_background": "light"
     },
     "output_type": "display_data"
    },
    {
     "name": "stdout",
     "output_type": "stream",
     "text": [
      "[[1.         0.92283073]\n",
      " [0.92283073 1.        ]]\n",
      "Кореляция равна 0.922830732485555\n"
     ]
    }
   ],
   "source": [
    "n = 100\n",
    "r = 0.7\n",
    "x = np.random.rand(n)\n",
    "y = r*x + (1 - r)*np.random.rand(n)\n",
    "plt.plot(x, y, 'o')\n",
    "plt.xlabel('x')\n",
    "plt.ylabel('y')\n",
    "plt.grid(True)\n",
    "\n",
    "a = (np.sum(x)*np.sum(y) - n*np.sum(x*y))/(np.sum(x)*np.sum(x) - n*np.sum(x*x))\n",
    "b = (np.sum(y) - a*np.sum(x))/n\n",
    "\n",
    "A = np.vstack([x, np.ones(len(x))]).T\n",
    "a1, b1 = np.linalg.lstsq(A, y)[0]\n",
    "print(a, b)\n",
    "print(a1, b1)\n",
    "plt.plot([0, 1], [b, a + b])\n",
    "plt.show()\n",
    "\n",
    "# Матрица корреляции\n",
    "c = np.corrcoef(x, y) \n",
    "print(c)\n",
    "\n",
    "#Расчитаем по фрмуле\n",
    "Xm=np.mean(x)\n",
    "Ym=np.mean(y)\n",
    "X=x-Xm\n",
    "Y=y-Ym\n",
    "C=X@Y/np.sqrt(X@X*Y@Y)\n",
    "print(f'Кореляция равна {C}')\n"
   ]
  },
  {
   "cell_type": "code",
   "execution_count": null,
   "metadata": {},
   "outputs": [],
   "source": []
  }
 ],
 "metadata": {
  "kernelspec": {
   "display_name": "Python 3",
   "language": "python",
   "name": "python3"
  },
  "language_info": {
   "codemirror_mode": {
    "name": "ipython",
    "version": 3
   },
   "file_extension": ".py",
   "mimetype": "text/x-python",
   "name": "python",
   "nbconvert_exporter": "python",
   "pygments_lexer": "ipython3",
   "version": "3.7.4"
  }
 },
 "nbformat": 4,
 "nbformat_minor": 2
}
