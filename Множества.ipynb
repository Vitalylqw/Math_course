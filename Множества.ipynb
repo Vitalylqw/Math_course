{
 "cells": [
  {
   "cell_type": "code",
   "execution_count": 1,
   "metadata": {},
   "outputs": [],
   "source": [
    "import numpy as np"
   ]
  },
  {
   "cell_type": "markdown",
   "metadata": {},
   "source": [
    "Даны три множества a,b и с. Необходимо выполнить все изученные виды бинарных операций над всеми комбинациями множеств.\n",
    "*Выполнить задание 1 на языке Python\n"
   ]
  },
  {
   "cell_type": "code",
   "execution_count": 2,
   "metadata": {},
   "outputs": [],
   "source": [
    "A=set(np.random.randint(1,10,5))\n",
    "B=set(np.random.randint(1,10,5))\n",
    "C=set(np.random.randint(1,10,5))\n"
   ]
  },
  {
   "cell_type": "code",
   "execution_count": 3,
   "metadata": {},
   "outputs": [
    {
     "name": "stdout",
     "output_type": "stream",
     "text": [
      "{9, 3, 6, 1}\n",
      "{8, 4, 5}\n",
      "{1, 2, 4, 5}\n"
     ]
    }
   ],
   "source": [
    "print(A,B,C,sep=\"\\n\")"
   ]
  },
  {
   "cell_type": "code",
   "execution_count": 4,
   "metadata": {},
   "outputs": [
    {
     "name": "stdout",
     "output_type": "stream",
     "text": [
      "set()\n",
      "{1}\n",
      "{4, 5}\n"
     ]
    }
   ],
   "source": [
    "#Пересечение А и B\n",
    "AB=set.intersection(A,B)\n",
    "#Пересечение А и C\n",
    "AC=set.intersection(A,C)\n",
    "#Пересечение C и B\n",
    "CB=set.intersection(C,B)\n",
    "print(AB,AC,CB,sep='\\n')\n"
   ]
  },
  {
   "cell_type": "code",
   "execution_count": 5,
   "metadata": {},
   "outputs": [
    {
     "name": "stdout",
     "output_type": "stream",
     "text": [
      "{1, 3, 4, 5, 6, 8, 9}\n",
      "{1, 2, 3, 4, 5, 6, 9}\n",
      "{1, 2, 4, 5, 8}\n"
     ]
    }
   ],
   "source": [
    "#Объединение А и B\n",
    "AB=set.union(A,B)\n",
    "#Объединение А и C\n",
    "AC=set.union(A,C)\n",
    "#Объединение C и B\n",
    "CB=set.union(C,B)\n",
    "print(AB,AC,CB,sep='\\n')"
   ]
  },
  {
   "cell_type": "code",
   "execution_count": 6,
   "metadata": {},
   "outputs": [
    {
     "name": "stdout",
     "output_type": "stream",
     "text": [
      "{9, 3, 6, 1}\n",
      "{9, 3, 6}\n",
      "{1, 2}\n",
      "{8, 4, 5}\n",
      "{2, 4, 5}\n",
      "{8}\n"
     ]
    }
   ],
   "source": [
    "#Разнсоть А и B\n",
    "AB=set.difference(A,B)\n",
    "#Разность А и C\n",
    "AC=set.difference(A,C)\n",
    "#Разноасть C и B\n",
    "CB=set.difference(C,B)\n",
    "#Разнсоть B и A\n",
    "BA=set.difference(B,A)\n",
    "#Разность C и A\n",
    "CA=set.difference(C,A)\n",
    "#Разноасть B и C\n",
    "BC=set.difference(B,C)\n",
    "\n",
    "\n",
    "print(AB,AC,CB,BA,CA,BC,sep='\\n')"
   ]
  },
  {
   "cell_type": "code",
   "execution_count": 7,
   "metadata": {},
   "outputs": [
    {
     "name": "stdout",
     "output_type": "stream",
     "text": [
      "{1, 3, 4, 5, 6, 8, 9}\n",
      "{2, 3, 4, 5, 6, 9}\n",
      "{1, 2, 8}\n"
     ]
    }
   ],
   "source": [
    "#симетрическая разность А и B\n",
    "AB=set.symmetric_difference(A,B)\n",
    "#симетрическая разность А и C\n",
    "AC=set.symmetric_difference(A,C)\n",
    "#симетрическая разность C и B\n",
    "CB=set.symmetric_difference(C,B)\n",
    "print(AB,AC,CB,sep='\\n')"
   ]
  },
  {
   "cell_type": "code",
   "execution_count": 8,
   "metadata": {},
   "outputs": [
    {
     "data": {
      "text/plain": [
       "{(1, 4),\n",
       " (1, 5),\n",
       " (1, 8),\n",
       " (3, 4),\n",
       " (3, 5),\n",
       " (3, 8),\n",
       " (6, 4),\n",
       " (6, 5),\n",
       " (6, 8),\n",
       " (9, 4),\n",
       " (9, 5),\n",
       " (9, 8)}"
      ]
     },
     "execution_count": 8,
     "metadata": {},
     "output_type": "execute_result"
    }
   ],
   "source": [
    "#Декартово произведение A и B\n",
    "set([(i,j) for i in A for j in B])"
   ]
  },
  {
   "cell_type": "code",
   "execution_count": 9,
   "metadata": {},
   "outputs": [
    {
     "data": {
      "text/plain": [
       "{(4, 1),\n",
       " (4, 3),\n",
       " (4, 6),\n",
       " (4, 9),\n",
       " (5, 1),\n",
       " (5, 3),\n",
       " (5, 6),\n",
       " (5, 9),\n",
       " (8, 1),\n",
       " (8, 3),\n",
       " (8, 6),\n",
       " (8, 9)}"
      ]
     },
     "execution_count": 9,
     "metadata": {},
     "output_type": "execute_result"
    }
   ],
   "source": [
    "#Декартово произведение B и A\n",
    "set([(i,j) for i in B for j in A])"
   ]
  },
  {
   "cell_type": "markdown",
   "metadata": {},
   "source": [
    "*На языке Python предложить алгоритм вычисляющий численно предел с точностью \n",
    "\n",
    "*Предложить оптимизацию алгоритма, полученного в задании 3, ускоряющую его сходимость.\n"
   ]
  },
  {
   "cell_type": "code",
   "execution_count": 34,
   "metadata": {},
   "outputs": [
    {
     "ename": "KeyboardInterrupt",
     "evalue": "",
     "output_type": "error",
     "traceback": [
      "\u001b[1;31m---------------------------------------------------------------------------\u001b[0m",
      "\u001b[1;31mKeyboardInterrupt\u001b[0m                         Traceback (most recent call last)",
      "\u001b[1;32m<ipython-input-34-93d855f3c286>\u001b[0m in \u001b[0;36m<module>\u001b[1;34m\u001b[0m\n\u001b[0;32m      9\u001b[0m     \u001b[0mn\u001b[0m\u001b[1;33m+=\u001b[0m\u001b[1;36m100\u001b[0m\u001b[1;33m\u001b[0m\u001b[1;33m\u001b[0m\u001b[0m\n\u001b[0;32m     10\u001b[0m     \u001b[0mAn\u001b[0m\u001b[1;33m=\u001b[0m\u001b[0mAn1\u001b[0m\u001b[1;33m\u001b[0m\u001b[1;33m\u001b[0m\u001b[0m\n\u001b[1;32m---> 11\u001b[1;33m     \u001b[0mAn1\u001b[0m\u001b[1;33m=\u001b[0m\u001b[0ma\u001b[0m\u001b[1;33m(\u001b[0m\u001b[0mn\u001b[0m\u001b[1;33m+\u001b[0m\u001b[1;36m1\u001b[0m\u001b[1;33m)\u001b[0m\u001b[1;33m\u001b[0m\u001b[1;33m\u001b[0m\u001b[0m\n\u001b[0m\u001b[0;32m     12\u001b[0m \u001b[0mprint\u001b[0m\u001b[1;33m(\u001b[0m\u001b[0mAn\u001b[0m\u001b[1;33m,\u001b[0m \u001b[0mAn1\u001b[0m\u001b[1;33m,\u001b[0m \u001b[0mn\u001b[0m\u001b[1;33m,\u001b[0m \u001b[0mb\u001b[0m\u001b[1;33m)\u001b[0m\u001b[1;33m\u001b[0m\u001b[1;33m\u001b[0m\u001b[0m\n\u001b[0;32m     13\u001b[0m \u001b[1;33m\u001b[0m\u001b[0m\n",
      "\u001b[1;32m<ipython-input-34-93d855f3c286>\u001b[0m in \u001b[0;36ma\u001b[1;34m(n)\u001b[0m\n\u001b[0;32m      1\u001b[0m \u001b[1;32mfrom\u001b[0m \u001b[0mdecimal\u001b[0m \u001b[1;32mimport\u001b[0m \u001b[0mDecimal\u001b[0m\u001b[1;33m\u001b[0m\u001b[1;33m\u001b[0m\u001b[0m\n\u001b[0;32m      2\u001b[0m \u001b[1;32mdef\u001b[0m \u001b[0ma\u001b[0m\u001b[1;33m(\u001b[0m\u001b[0mn\u001b[0m\u001b[1;33m)\u001b[0m\u001b[1;33m:\u001b[0m\u001b[1;33m\u001b[0m\u001b[1;33m\u001b[0m\u001b[0m\n\u001b[1;32m----> 3\u001b[1;33m     \u001b[1;32mreturn\u001b[0m \u001b[1;33m(\u001b[0m\u001b[0mn\u001b[0m\u001b[1;33m/\u001b[0m\u001b[1;33m(\u001b[0m\u001b[0mDecimal\u001b[0m\u001b[1;33m(\u001b[0m\u001b[0mnp\u001b[0m\u001b[1;33m.\u001b[0m\u001b[0mmath\u001b[0m\u001b[1;33m.\u001b[0m\u001b[0mfactorial\u001b[0m\u001b[1;33m(\u001b[0m\u001b[0mn\u001b[0m\u001b[1;33m)\u001b[0m\u001b[1;33m)\u001b[0m\u001b[1;33m**\u001b[0m\u001b[0mDecimal\u001b[0m\u001b[1;33m(\u001b[0m\u001b[1;33m(\u001b[0m\u001b[1;36m1\u001b[0m\u001b[1;33m/\u001b[0m\u001b[0mn\u001b[0m\u001b[1;33m)\u001b[0m\u001b[1;33m)\u001b[0m\u001b[1;33m)\u001b[0m\u001b[1;33m)\u001b[0m\u001b[1;33m\u001b[0m\u001b[1;33m\u001b[0m\u001b[0m\n\u001b[0m\u001b[0;32m      4\u001b[0m \u001b[0mb\u001b[0m\u001b[1;33m=\u001b[0m\u001b[1;36m10\u001b[0m\u001b[1;33m**\u001b[0m\u001b[1;33m(\u001b[0m\u001b[1;33m-\u001b[0m\u001b[1;36m7\u001b[0m\u001b[1;33m)\u001b[0m\u001b[1;33m\u001b[0m\u001b[1;33m\u001b[0m\u001b[0m\n\u001b[0;32m      5\u001b[0m \u001b[0mn\u001b[0m\u001b[1;33m=\u001b[0m\u001b[1;36m1000\u001b[0m\u001b[1;33m\u001b[0m\u001b[1;33m\u001b[0m\u001b[0m\n",
      "\u001b[1;31mKeyboardInterrupt\u001b[0m: "
     ]
    }
   ],
   "source": [
    "from decimal import Decimal\n",
    "def a(n):\n",
    "    return (n/(Decimal(np.math.factorial(n))**Decimal((1/n))))\n",
    "b=10**(-7)        \n",
    "n=1000\n",
    "An=a(n)\n",
    "An1=a(n+1)\n",
    "while np.abs(An1-An)>b:\n",
    "    n+=100\n",
    "    An=An1\n",
    "    An1=a(n+1)\n",
    "print(An, An1, n, b)    \n",
    "    \n"
   ]
  },
  {
   "cell_type": "code",
   "execution_count": null,
   "metadata": {},
   "outputs": [],
   "source": []
  }
 ],
 "metadata": {
  "kernelspec": {
   "display_name": "Python 3",
   "language": "python",
   "name": "python3"
  },
  "language_info": {
   "codemirror_mode": {
    "name": "ipython",
    "version": 3
   },
   "file_extension": ".py",
   "mimetype": "text/x-python",
   "name": "python",
   "nbconvert_exporter": "python",
   "pygments_lexer": "ipython3",
   "version": "3.7.4"
  }
 },
 "nbformat": 4,
 "nbformat_minor": 2
}
